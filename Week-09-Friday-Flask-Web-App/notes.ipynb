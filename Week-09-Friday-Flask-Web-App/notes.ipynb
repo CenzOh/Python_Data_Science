{
 "cells": [
  {
   "attachments": {},
   "cell_type": "markdown",
   "metadata": {},
   "source": [
    "Setup<br>\n",
    "We always need folders called `static` and `templates`. Static is things that dont change like an image. Templates are for HTML files<br>\n",
    "`requirements.txt` also important. WIll include all libraries we use in the python app. Has to be in this file. Tells Horoku to download these libraries to the server for access<br>\n",
    "`app.py` is the app file must be named this. `procfile` same thing has to be named this. <br>\n",
    "Stackoverflow, flask documentation, and w3schools good resources for HTML. <br>\n",
    "Magic of Flask -> we can write Python code inside an HTML file!<br>\n",
    "To talk python in HTML, we have to include the curly braces<br>\n",
    "{%if input_text%} --> this is python code!<br>\n",
    "Python is space syntax while HTML is not. THis means python cares about spaces    while HTML doesnt<br>\n",
    "Can write whole html file on one line but hard to read. Cant write python on one line. Recall how Python has indentations<br>\n",
    "{% if input_text %} this is asking, if the input text exists, do the following on the next line. When file first created, input text doesnt exist yet. Gets created later in app.py. Once detected, THEN the block of code runs.<br>\n",
    "In the header line we want to reference the input_text variable, so use double culry brace to call the Python variable. {{ input_text }}<br>\n",
    "NOTE - that again, in HTML we must close our stuff so we have to write {% endif %}<br>\n",
    "HTML links are denoted by `<a href=\"url\">` anchor tag. href is the reference link. Flask uses the following: `{{ url_for('classify_image') }}`. Use the url_for fcn. In () write the page we want to go to. In our case it is the classify_image page.<br>\n",
    "Make sure the variable names align. Ex - app.py flask.request.form['input_variable_one']. And in input_values.html name = \"input_variable_one\".<br>\n"
   ]
  }
 ],
 "metadata": {
  "kernelspec": {
   "display_name": "base",
   "language": "python",
   "name": "python3"
  },
  "language_info": {
   "name": "python",
   "version": "3.9.13 (main, Aug 25 2022, 23:51:50) [MSC v.1916 64 bit (AMD64)]"
  },
  "orig_nbformat": 4,
  "vscode": {
   "interpreter": {
    "hash": "d7288e82646d3164eca24130947288f8779d11454649f2c02a5dfc42af7f324c"
   }
  }
 },
 "nbformat": 4,
 "nbformat_minor": 2
}
