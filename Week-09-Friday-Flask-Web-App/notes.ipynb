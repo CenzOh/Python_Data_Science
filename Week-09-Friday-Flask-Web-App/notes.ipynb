{
 "cells": [
  {
   "attachments": {},
   "cell_type": "markdown",
   "metadata": {},
   "source": [
    "# Setup\n",
    "We always need folders called `static` and `templates`. Static is things that dont change like an image. Templates are for HTML files<br>\n",
    "`requirements.txt` also important. WIll include all libraries we use in the python app. Has to be in this file. Tells Horoku to download these libraries to the server for access<br>\n",
    "`app.py` is the app file must be named this. `procfile` same thing has to be named this. <br>\n",
    "Stackoverflow, flask documentation, and w3schools good resources for HTML. <br>\n",
    "Magic of Flask -> we can write Python code inside an HTML file!<br>\n",
    "To talk python in HTML, we have to include the curly braces<br>\n",
    "{%if input_text%} --> this is python code!<br>\n",
    "Python is space syntax while HTML is not. THis means python cares about spaces    while HTML doesnt<br>\n",
    "Can write whole html file on one line but hard to read. Cant write python on one line. Recall how Python has indentations<br>\n",
    "{% if input_text %} this is asking, if the input text exists, do the following on the next line. When file first created, input text doesnt exist yet. Gets created later in app.py. Once detected, THEN the block of code runs.<br>\n",
    "In the header line we want to reference the input_text variable, so use double culry brace to call the Python variable. {{ input_text }}<br>\n",
    "NOTE - that again, in HTML we must close our stuff so we have to write {% endif %}<br>\n",
    "HTML links are denoted by `<a href=\"url\">` anchor tag. href is the reference link. Flask uses the following: `{{ url_for('classify_image') }}`. Use the url_for fcn. In () write the page we want to go to. In our case it is the classify_image page.<br>\n",
    "Make sure the variable names align. Ex - app.py flask.request.form['input_variable_one']. And in input_values.html name = \"input_variable_one\".<br>\n"
   ]
  },
  {
   "attachments": {},
   "cell_type": "markdown",
   "metadata": {},
   "source": [
    "# What makes good data visualizations?\n",
    "First example showed 2D bar chart. At first, was hard to read X axis. When spread out, we can see the chart has number of Covid deaths per state. Cali was at the top. But the num of deaths is just correlated with population. Better chart is deaths per 100k population, gives more accurate type of info. <br>\n",
    "No added info, example is 3D graph. The demo 3D graph has no added extra info. Everything on the cahrt should be displaying info. If not, remove it. The 3D doesnt add anything, just there so remove it.<br>\n",
    "Next, misleading info. THe example chart says what are biggest covid-19 worries, x axis has the economu, family getting it, getting it. We have no idea how many people participated. Could be 5 people or 500 people. What does it sum to? 68% say economy 48% say getting it so doesnt add up to 100%. <br>\n",
    "The color in this graph is not good. Darkness indicates intesnity. So the 68% SHOULD be red, not yellow. Another misleading example shows a decline in confirm cases. The bar charts look like they slow down. Dates are weird, we have April 228, 27, 29, May 1, etc. Intentionally going down. <br>\n",
    "Num of covid cases per county, same thing where the num of cases is correlated with population so this count does not help.<br>\n",
    "Bad Axes / Axis. One example does not have a title. SOphi has 32, so what does this mean? Days? Grade? Also onx axis it does NOT start at 0. Starts at 5. We have this weird scale so start at 0. If you have values really high like in the millions, that would make sense to not start at 0. <br>\n",
    "Another issue is some readability, the numbers inside the bars are hard to read. WHite text on brown bar with white background. And the bar has this wood texture with a drop shadow. Why? Not needed.<br>\n",
    "Next, gun deaths in florida, point line chart. We can see a call out in 2005 florida enacts stand your ground law so the deaths drop a bit. Why misleading tho? Read area on top of the lines, doesnt make sense. Also its upsdie down!!! THe 0 is at the top. Ahhh so when the law was enacted it SEEMS like deaths decreased but its the opposite. <br>\n",
    "L:ie factor another one. THe formula is Lie factor = size of effect shown in graph / size of effect in data. THis graph shows fuel economy standards for autos. Top line represents 18 miles per gallon in 1978, 0.6 inches long. WHile the bottom line represents 27.5 miles per gallon in 1985 in 5.3 inches long. SO do the math. 27.5 / 18.0 ...<br>\n",
    "Some are just BAD. Know the use of graphs prior to implementation. If building a visualization to illustrate the population of the world, using pie chart is BAD because you can hardly see smaller slices. Avoid pie charts it total is NOT coming up to 100 and parameters used are NOT related. Rule of thumb is also, if more than 6 categories, DONT make a pie chart.<br>\n",
    "Color is important! DIfference between two shades of red on the example are hardly indistinguishable. Bad use. WE have two cateogries so should be different color.<br>\n",
    "Color should convey info. TOp chart uses bad color. DIfferent shades of orange for cardinal directions. They use sequential color scale. Instead, use qualitative color scale. Second exmaple has blue, orange, green, red. <br>\n",
    "Color is important, good use of qualitative color is use of NY times covid dashboard. Dark areas represent covid hotspots. <br>\n",
    "Highlights insight. SLope chart by Edward Tufte clearly highlights the insight that there was only ONE country to decline in value. Can write code to produce this in Python.<br>\n",
    "Tells a story!! in 1812, Napoleon marched to Moscow in order to conquer the city. It was awful. Started with 470k soliders, returned with just 10k. The example chart tells the story of that campagin and has become one fo the most famous visualizations of all ime. The chart tells the story of that campaign. Map details the out and back journey of Napoleons troops. Width of the line represents total num of soliders and the color represents the direction. Yellow for towards moscow and black for the return trip. Below the central visualization in the example is a simple temperature line graph illustrating the weather.<br>\n",
    "Provide actionable insight. John Snows Cholera map. The finding: the households that suffered the most from cholera were all using the same well for drinking water. Actionable insight: CLose that water station!!<br>\n",
    "Easily comprehensible and fun take brain mass by grams and kilograms for animals.<br>\n",
    "Data-Ink Ratio, Tufte defines the data-ink ratio as the amount of data-ink divided by the total ink required to print the graphic. Why are there vertical axis lines? Why is background blue?<br>"
   ]
  }
 ],
 "metadata": {
  "kernelspec": {
   "display_name": "base",
   "language": "python",
   "name": "python3"
  },
  "language_info": {
   "name": "python",
   "version": "3.9.13 (main, Aug 25 2022, 23:51:50) [MSC v.1916 64 bit (AMD64)]"
  },
  "orig_nbformat": 4,
  "vscode": {
   "interpreter": {
    "hash": "d7288e82646d3164eca24130947288f8779d11454649f2c02a5dfc42af7f324c"
   }
  }
 },
 "nbformat": 4,
 "nbformat_minor": 2
}
