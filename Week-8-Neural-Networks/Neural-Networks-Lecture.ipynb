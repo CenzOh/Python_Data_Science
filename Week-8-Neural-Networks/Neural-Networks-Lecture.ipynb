{
 "cells": [
  {
   "cell_type": "code",
   "execution_count": 4,
   "metadata": {},
   "outputs": [
    {
     "name": "stdout",
     "output_type": "stream",
     "text": [
      "2.11.0\n"
     ]
    }
   ],
   "source": [
    "#my version\n",
    "import tensorflow as tf\n",
    "from tensorflow import keras\n",
    "#layers for NN\n",
    "from tensorflow.keras.layers import Conv2D, MaxPooling2D, Dropout, Flatten, Dense\n",
    "#oretrained model for transfer learning\n",
    "from keras.models import Model\n",
    "from keras.applications import vgg19\n",
    "\n",
    "import numpy as np\n",
    "import os\n",
    "import sys\n",
    "import matplotlib.pyplot as plt\n",
    "import pandas as pd\n",
    "import seaborn as sns\n",
    "from sklearn.model_selection import train_test_split\n",
    "from sklearn import datasets\n",
    "\n",
    "print(tf.__version__)"
   ]
  },
  {
   "attachments": {},
   "cell_type": "markdown",
   "metadata": {},
   "source": [
    "# Part 1 getting neural netowkr working\n",
    "Training neural network similar to sklearn models but a bit more complicated. Lets use the titanic dataset we used before"
   ]
  },
  {
   "cell_type": "code",
   "execution_count": 6,
   "metadata": {},
   "outputs": [
    {
     "name": "stdout",
     "output_type": "stream",
     "text": [
      "Length of our training data: (712, 9) \n",
      "Length of our Testing data: (179,)\n"
     ]
    },
    {
     "data": {
      "text/html": [
       "<div>\n",
       "<style scoped>\n",
       "    .dataframe tbody tr th:only-of-type {\n",
       "        vertical-align: middle;\n",
       "    }\n",
       "\n",
       "    .dataframe tbody tr th {\n",
       "        vertical-align: top;\n",
       "    }\n",
       "\n",
       "    .dataframe thead th {\n",
       "        text-align: right;\n",
       "    }\n",
       "</style>\n",
       "<table border=\"1\" class=\"dataframe\">\n",
       "  <thead>\n",
       "    <tr style=\"text-align: right;\">\n",
       "      <th></th>\n",
       "      <th>passengerid</th>\n",
       "      <th>survived</th>\n",
       "      <th>name</th>\n",
       "      <th>age</th>\n",
       "      <th>sibsp</th>\n",
       "      <th>parch</th>\n",
       "      <th>ticket</th>\n",
       "      <th>fare</th>\n",
       "      <th>cabin</th>\n",
       "      <th>sex_male</th>\n",
       "      <th>pclass_2</th>\n",
       "      <th>pclass_3</th>\n",
       "      <th>embarked_Q</th>\n",
       "      <th>embarked_S</th>\n",
       "    </tr>\n",
       "  </thead>\n",
       "  <tbody>\n",
       "    <tr>\n",
       "      <th>0</th>\n",
       "      <td>1</td>\n",
       "      <td>0</td>\n",
       "      <td>Braund, Mr. Owen Harris</td>\n",
       "      <td>22.0</td>\n",
       "      <td>1</td>\n",
       "      <td>0</td>\n",
       "      <td>A/5 21171</td>\n",
       "      <td>7.2500</td>\n",
       "      <td>NaN</td>\n",
       "      <td>1</td>\n",
       "      <td>0</td>\n",
       "      <td>1</td>\n",
       "      <td>0</td>\n",
       "      <td>1</td>\n",
       "    </tr>\n",
       "    <tr>\n",
       "      <th>1</th>\n",
       "      <td>2</td>\n",
       "      <td>1</td>\n",
       "      <td>Cumings, Mrs. John Bradley (Florence Briggs Th...</td>\n",
       "      <td>38.0</td>\n",
       "      <td>1</td>\n",
       "      <td>0</td>\n",
       "      <td>PC 17599</td>\n",
       "      <td>71.2833</td>\n",
       "      <td>C85</td>\n",
       "      <td>0</td>\n",
       "      <td>0</td>\n",
       "      <td>0</td>\n",
       "      <td>0</td>\n",
       "      <td>0</td>\n",
       "    </tr>\n",
       "    <tr>\n",
       "      <th>2</th>\n",
       "      <td>3</td>\n",
       "      <td>1</td>\n",
       "      <td>Heikkinen, Miss. Laina</td>\n",
       "      <td>26.0</td>\n",
       "      <td>0</td>\n",
       "      <td>0</td>\n",
       "      <td>STON/O2. 3101282</td>\n",
       "      <td>7.9250</td>\n",
       "      <td>NaN</td>\n",
       "      <td>0</td>\n",
       "      <td>0</td>\n",
       "      <td>1</td>\n",
       "      <td>0</td>\n",
       "      <td>1</td>\n",
       "    </tr>\n",
       "    <tr>\n",
       "      <th>3</th>\n",
       "      <td>4</td>\n",
       "      <td>1</td>\n",
       "      <td>Futrelle, Mrs. Jacques Heath (Lily May Peel)</td>\n",
       "      <td>35.0</td>\n",
       "      <td>1</td>\n",
       "      <td>0</td>\n",
       "      <td>113803</td>\n",
       "      <td>53.1000</td>\n",
       "      <td>C123</td>\n",
       "      <td>0</td>\n",
       "      <td>0</td>\n",
       "      <td>0</td>\n",
       "      <td>0</td>\n",
       "      <td>1</td>\n",
       "    </tr>\n",
       "    <tr>\n",
       "      <th>4</th>\n",
       "      <td>5</td>\n",
       "      <td>0</td>\n",
       "      <td>Allen, Mr. William Henry</td>\n",
       "      <td>35.0</td>\n",
       "      <td>0</td>\n",
       "      <td>0</td>\n",
       "      <td>373450</td>\n",
       "      <td>8.0500</td>\n",
       "      <td>NaN</td>\n",
       "      <td>1</td>\n",
       "      <td>0</td>\n",
       "      <td>1</td>\n",
       "      <td>0</td>\n",
       "      <td>1</td>\n",
       "    </tr>\n",
       "  </tbody>\n",
       "</table>\n",
       "</div>"
      ],
      "text/plain": [
       "   passengerid  survived                                               name  \\\n",
       "0            1         0                            Braund, Mr. Owen Harris   \n",
       "1            2         1  Cumings, Mrs. John Bradley (Florence Briggs Th...   \n",
       "2            3         1                             Heikkinen, Miss. Laina   \n",
       "3            4         1       Futrelle, Mrs. Jacques Heath (Lily May Peel)   \n",
       "4            5         0                           Allen, Mr. William Henry   \n",
       "\n",
       "    age  sibsp  parch            ticket     fare cabin  sex_male  pclass_2  \\\n",
       "0  22.0      1      0         A/5 21171   7.2500   NaN         1         0   \n",
       "1  38.0      1      0          PC 17599  71.2833   C85         0         0   \n",
       "2  26.0      0      0  STON/O2. 3101282   7.9250   NaN         0         0   \n",
       "3  35.0      1      0            113803  53.1000  C123         0         0   \n",
       "4  35.0      0      0            373450   8.0500   NaN         1         0   \n",
       "\n",
       "   pclass_3  embarked_Q  embarked_S  \n",
       "0         1           0           1  \n",
       "1         0           0           0  \n",
       "2         1           0           1  \n",
       "3         0           0           1  \n",
       "4         1           0           1  "
      ]
     },
     "execution_count": 6,
     "metadata": {},
     "output_type": "execute_result"
    }
   ],
   "source": [
    "#raw url to get csv\n",
    "df = pd.read_csv('https://raw.githubusercontent.com/CUNYTechPrep/2020-fall-data-science/master/Week5-RandomForest/data/titanic.csv')\n",
    "\n",
    "df = pd.get_dummies(df, columns=['sex', 'pclass', 'embarked'], drop_first=True)\n",
    "selected_features = ['fare', 'age', 'sex_male', 'pclass_2', 'pclass_3', 'sibsp', 'parch', 'embarked_Q', 'embarked_S']\n",
    "df['age'] = df['age'].fillna(999)\n",
    "\n",
    "X = df[selected_features]\n",
    "\n",
    "y = df['survived']\n",
    "\n",
    "X_train, X_test, y_train, y_test = train_test_split(X, y, test_size=0.2, random_state=45)\n",
    "\n",
    "print('Length of our training data:', X_train.shape, '\\nLength of our Testing data:', y_test.shape)\n",
    "df.head()"
   ]
  },
  {
   "attachments": {},
   "cell_type": "markdown",
   "metadata": {},
   "source": [
    "Neural networks are made of layers with the layers themselves made up of neurons<br>\n",
    "Input layer - Multiple hidden layers - Output layer<br>\n",
    "\n",
    "We will build our own networks layer with sequential fcn.<br>\n",
    "Layers contain the actual neurosn are called Dense layers in tensorflow. TO get a deep network, we need more dense layers. For a wide network, add more neurons in each layer.<br>\n",
    "Tensorflow expects 2 params for dense layers. 1st is num of neurons. Good fit is between 64-1024 starting point.<br>\n",
    "Other param is activationf csn. These are important, for now set to relu.<br>\n",
    "Last dense layer is the output layer. Num of neurons should be equal to num of classes we want to predict (in our case, we have two class to predict which is whether or not passenger survived).<br>\n",
    "If problem has two clases (like our example) put 1 and set activation to sigmoid. If problem is multiclass with N classes, set the num to be N and activation to softmax.<br>"
   ]
  },
  {
   "cell_type": "code",
   "execution_count": 7,
   "metadata": {},
   "outputs": [],
   "source": [
    "# decisiontree = DecisionTree()\n",
    "model = tf.keras.models.Sequential([\n",
    "    tf.keras.layers.Dense(128, activation='relu'),\n",
    "    tf.keras.layers.Dense(128, activation='relu'),\n",
    "    tf.keras.layers.Dense(1, activation='sigmoid')])"
   ]
  },
  {
   "attachments": {},
   "cell_type": "markdown",
   "metadata": {},
   "source": [
    "next up, compile the model PRIOR to training it. Three params, optimizer, loss fcn, metrics.<br>\n",
    "multiple Optimizers , each has different params that can be changed. tf.keras.optimizer.Adam() is good choice for most problems.<br>\n",
    "Loss fcn depends on problem. Binary class, use binary_crossentropy. Multiclass problem, use sparse_categorical_crossentropy. Regression, use mse.<br>\n",
    "Metric is what metric we want the model to report while training. We can use accuracy. For regression problem, use mse or mae.<br>"
   ]
  },
  {
   "cell_type": "code",
   "execution_count": 8,
   "metadata": {},
   "outputs": [],
   "source": [
    "model.compile(optimizer=tf.keras.optimizers.Adam(), loss='binary_crossentropy', metrics=['acc'])\n",
    "#compile fcn operates inpalce, we dont retrun the model. Remember fit from sklearn"
   ]
  },
  {
   "attachments": {},
   "cell_type": "markdown",
   "metadata": {},
   "source": [
    "now we can train. Depends what we want to do. Pass training and test set like usualm but define number of epochs. How long we want the model to train"
   ]
  },
  {
   "cell_type": "code",
   "execution_count": 9,
   "metadata": {},
   "outputs": [
    {
     "name": "stdout",
     "output_type": "stream",
     "text": [
      "Epoch 1/100\n",
      "20/20 [==============================] - 1s 16ms/step - loss: 3.8147 - acc: 0.5875 - val_loss: 0.9838 - val_acc: 0.6667\n",
      "Epoch 2/100\n",
      "20/20 [==============================] - 0s 2ms/step - loss: 1.4128 - acc: 0.5875 - val_loss: 0.7143 - val_acc: 0.6111\n",
      "Epoch 3/100\n",
      "20/20 [==============================] - 0s 2ms/step - loss: 0.8992 - acc: 0.6391 - val_loss: 1.1296 - val_acc: 0.4583\n",
      "Epoch 4/100\n",
      "20/20 [==============================] - 0s 2ms/step - loss: 0.9848 - acc: 0.6391 - val_loss: 0.9113 - val_acc: 0.5139\n",
      "Epoch 5/100\n",
      "20/20 [==============================] - 0s 2ms/step - loss: 0.7829 - acc: 0.6656 - val_loss: 1.7449 - val_acc: 0.4861\n",
      "Epoch 6/100\n",
      "20/20 [==============================] - 0s 2ms/step - loss: 0.9134 - acc: 0.6625 - val_loss: 1.0293 - val_acc: 0.5833\n",
      "Epoch 7/100\n",
      "20/20 [==============================] - 0s 2ms/step - loss: 0.9165 - acc: 0.6547 - val_loss: 1.6010 - val_acc: 0.5972\n",
      "Epoch 8/100\n",
      "20/20 [==============================] - 0s 2ms/step - loss: 0.9770 - acc: 0.6672 - val_loss: 0.9418 - val_acc: 0.6667\n",
      "Epoch 9/100\n",
      "20/20 [==============================] - 0s 2ms/step - loss: 0.7391 - acc: 0.6812 - val_loss: 0.6527 - val_acc: 0.7083\n",
      "Epoch 10/100\n",
      "20/20 [==============================] - 0s 2ms/step - loss: 0.6834 - acc: 0.6656 - val_loss: 0.9515 - val_acc: 0.6389\n",
      "Epoch 11/100\n",
      "20/20 [==============================] - 0s 2ms/step - loss: 0.8792 - acc: 0.6859 - val_loss: 0.9744 - val_acc: 0.6806\n",
      "Epoch 12/100\n",
      "20/20 [==============================] - 0s 2ms/step - loss: 0.8257 - acc: 0.6906 - val_loss: 1.3436 - val_acc: 0.7222\n",
      "Epoch 13/100\n",
      "20/20 [==============================] - 0s 2ms/step - loss: 1.0284 - acc: 0.7094 - val_loss: 1.9561 - val_acc: 0.7083\n",
      "Epoch 14/100\n",
      "20/20 [==============================] - 0s 2ms/step - loss: 0.9051 - acc: 0.7063 - val_loss: 1.2387 - val_acc: 0.6806\n",
      "Epoch 15/100\n",
      "20/20 [==============================] - 0s 2ms/step - loss: 0.7382 - acc: 0.7000 - val_loss: 1.1215 - val_acc: 0.6806\n",
      "Epoch 16/100\n",
      "20/20 [==============================] - 0s 2ms/step - loss: 0.6976 - acc: 0.7250 - val_loss: 1.2993 - val_acc: 0.6806\n",
      "Epoch 17/100\n",
      "20/20 [==============================] - 0s 2ms/step - loss: 1.4131 - acc: 0.6734 - val_loss: 4.8347 - val_acc: 0.5417\n",
      "Epoch 18/100\n",
      "20/20 [==============================] - 0s 2ms/step - loss: 2.3159 - acc: 0.6562 - val_loss: 3.3367 - val_acc: 0.5417\n",
      "Epoch 19/100\n",
      "20/20 [==============================] - 0s 2ms/step - loss: 1.1643 - acc: 0.7063 - val_loss: 2.2372 - val_acc: 0.6667\n",
      "Epoch 20/100\n",
      "20/20 [==============================] - 0s 2ms/step - loss: 1.1680 - acc: 0.6828 - val_loss: 0.7793 - val_acc: 0.6806\n",
      "Epoch 21/100\n",
      "20/20 [==============================] - 0s 2ms/step - loss: 0.7870 - acc: 0.7250 - val_loss: 0.9503 - val_acc: 0.6806\n",
      "Epoch 22/100\n",
      "20/20 [==============================] - 0s 2ms/step - loss: 1.1093 - acc: 0.7203 - val_loss: 0.6006 - val_acc: 0.7639\n",
      "Epoch 23/100\n",
      "20/20 [==============================] - 0s 2ms/step - loss: 0.6251 - acc: 0.7406 - val_loss: 0.5585 - val_acc: 0.7083\n",
      "Epoch 24/100\n",
      "20/20 [==============================] - 0s 2ms/step - loss: 0.8057 - acc: 0.7328 - val_loss: 0.6410 - val_acc: 0.7639\n",
      "Epoch 25/100\n",
      "20/20 [==============================] - 0s 2ms/step - loss: 0.7868 - acc: 0.7188 - val_loss: 0.5902 - val_acc: 0.7500\n",
      "Epoch 26/100\n",
      "20/20 [==============================] - 0s 2ms/step - loss: 0.6090 - acc: 0.7359 - val_loss: 0.5299 - val_acc: 0.7639\n",
      "Epoch 27/100\n",
      "20/20 [==============================] - 0s 2ms/step - loss: 0.5857 - acc: 0.7578 - val_loss: 0.7093 - val_acc: 0.7500\n",
      "Epoch 28/100\n",
      "20/20 [==============================] - 0s 2ms/step - loss: 0.5893 - acc: 0.7312 - val_loss: 0.6231 - val_acc: 0.7222\n",
      "Epoch 29/100\n",
      "20/20 [==============================] - 0s 2ms/step - loss: 0.6596 - acc: 0.7437 - val_loss: 1.3212 - val_acc: 0.7222\n",
      "Epoch 30/100\n",
      "20/20 [==============================] - 0s 2ms/step - loss: 0.6722 - acc: 0.7125 - val_loss: 1.3098 - val_acc: 0.7083\n",
      "Epoch 31/100\n",
      "20/20 [==============================] - 0s 3ms/step - loss: 0.8222 - acc: 0.7484 - val_loss: 1.5210 - val_acc: 0.7222\n",
      "Epoch 32/100\n",
      "20/20 [==============================] - 0s 2ms/step - loss: 0.9626 - acc: 0.7453 - val_loss: 1.0366 - val_acc: 0.7083\n",
      "Epoch 33/100\n",
      "20/20 [==============================] - 0s 2ms/step - loss: 0.8319 - acc: 0.7406 - val_loss: 0.9731 - val_acc: 0.6667\n",
      "Epoch 34/100\n",
      "20/20 [==============================] - 0s 2ms/step - loss: 0.6681 - acc: 0.7516 - val_loss: 0.9601 - val_acc: 0.7222\n",
      "Epoch 35/100\n",
      "20/20 [==============================] - 0s 2ms/step - loss: 0.8156 - acc: 0.7328 - val_loss: 1.5221 - val_acc: 0.7500\n",
      "Epoch 36/100\n",
      "20/20 [==============================] - 0s 2ms/step - loss: 0.7946 - acc: 0.7453 - val_loss: 1.1394 - val_acc: 0.6528\n",
      "Epoch 37/100\n",
      "20/20 [==============================] - 0s 2ms/step - loss: 0.6373 - acc: 0.7578 - val_loss: 0.7783 - val_acc: 0.7361\n",
      "Epoch 38/100\n",
      "20/20 [==============================] - 0s 2ms/step - loss: 0.9856 - acc: 0.7359 - val_loss: 2.5158 - val_acc: 0.6528\n",
      "Epoch 39/100\n",
      "20/20 [==============================] - 0s 2ms/step - loss: 1.2103 - acc: 0.7281 - val_loss: 2.4682 - val_acc: 0.6944\n",
      "Epoch 40/100\n",
      "20/20 [==============================] - 0s 2ms/step - loss: 0.8674 - acc: 0.7422 - val_loss: 0.9141 - val_acc: 0.7222\n",
      "Epoch 41/100\n",
      "20/20 [==============================] - 0s 2ms/step - loss: 0.7465 - acc: 0.7297 - val_loss: 1.0171 - val_acc: 0.6806\n",
      "Epoch 42/100\n",
      "20/20 [==============================] - 0s 2ms/step - loss: 0.6715 - acc: 0.7547 - val_loss: 0.7206 - val_acc: 0.6528\n",
      "Epoch 43/100\n",
      "20/20 [==============================] - 0s 2ms/step - loss: 0.8680 - acc: 0.7406 - val_loss: 0.5074 - val_acc: 0.7500\n",
      "Epoch 44/100\n",
      "20/20 [==============================] - 0s 2ms/step - loss: 0.6397 - acc: 0.7547 - val_loss: 1.0902 - val_acc: 0.7778\n",
      "Epoch 45/100\n",
      "20/20 [==============================] - 0s 2ms/step - loss: 0.9138 - acc: 0.7578 - val_loss: 2.2982 - val_acc: 0.7778\n",
      "Epoch 46/100\n",
      "20/20 [==============================] - 0s 2ms/step - loss: 1.1176 - acc: 0.7391 - val_loss: 1.0612 - val_acc: 0.6389\n",
      "Epoch 47/100\n",
      "20/20 [==============================] - 0s 2ms/step - loss: 0.7021 - acc: 0.7734 - val_loss: 0.5646 - val_acc: 0.7083\n",
      "Epoch 48/100\n",
      "20/20 [==============================] - 0s 2ms/step - loss: 0.6008 - acc: 0.7781 - val_loss: 0.7771 - val_acc: 0.6389\n",
      "Epoch 49/100\n",
      "20/20 [==============================] - 0s 2ms/step - loss: 0.5315 - acc: 0.7578 - val_loss: 0.5776 - val_acc: 0.7222\n",
      "Epoch 50/100\n",
      "20/20 [==============================] - 0s 2ms/step - loss: 0.4905 - acc: 0.7922 - val_loss: 0.6265 - val_acc: 0.7361\n",
      "Epoch 51/100\n",
      "20/20 [==============================] - 0s 2ms/step - loss: 0.5892 - acc: 0.7719 - val_loss: 0.5205 - val_acc: 0.7778\n",
      "Epoch 52/100\n",
      "20/20 [==============================] - 0s 2ms/step - loss: 0.5271 - acc: 0.7937 - val_loss: 0.9488 - val_acc: 0.7361\n",
      "Epoch 53/100\n",
      "20/20 [==============================] - 0s 2ms/step - loss: 0.5789 - acc: 0.7703 - val_loss: 0.5136 - val_acc: 0.8194\n",
      "Epoch 54/100\n",
      "20/20 [==============================] - 0s 3ms/step - loss: 0.4830 - acc: 0.7875 - val_loss: 0.5235 - val_acc: 0.7500\n",
      "Epoch 55/100\n",
      "20/20 [==============================] - 0s 3ms/step - loss: 0.5000 - acc: 0.7875 - val_loss: 0.9398 - val_acc: 0.7361\n",
      "Epoch 56/100\n",
      "20/20 [==============================] - 0s 3ms/step - loss: 0.5943 - acc: 0.7672 - val_loss: 1.1070 - val_acc: 0.7222\n",
      "Epoch 57/100\n",
      "20/20 [==============================] - 0s 2ms/step - loss: 0.8865 - acc: 0.7406 - val_loss: 2.0250 - val_acc: 0.6667\n",
      "Epoch 58/100\n",
      "20/20 [==============================] - 0s 2ms/step - loss: 1.0908 - acc: 0.7141 - val_loss: 0.6780 - val_acc: 0.7083\n",
      "Epoch 59/100\n",
      "20/20 [==============================] - 0s 2ms/step - loss: 0.5908 - acc: 0.7641 - val_loss: 0.7245 - val_acc: 0.7222\n",
      "Epoch 60/100\n",
      "20/20 [==============================] - 0s 2ms/step - loss: 0.5182 - acc: 0.7969 - val_loss: 0.5333 - val_acc: 0.7500\n",
      "Epoch 61/100\n",
      "20/20 [==============================] - 0s 2ms/step - loss: 0.5254 - acc: 0.7906 - val_loss: 0.6872 - val_acc: 0.6528\n",
      "Epoch 62/100\n",
      "20/20 [==============================] - 0s 2ms/step - loss: 0.4596 - acc: 0.7953 - val_loss: 0.7444 - val_acc: 0.7500\n",
      "Epoch 63/100\n",
      "20/20 [==============================] - 0s 2ms/step - loss: 0.7213 - acc: 0.7734 - val_loss: 0.8264 - val_acc: 0.7778\n",
      "Epoch 64/100\n",
      "20/20 [==============================] - 0s 2ms/step - loss: 0.7838 - acc: 0.7578 - val_loss: 0.6331 - val_acc: 0.7222\n",
      "Epoch 65/100\n",
      "20/20 [==============================] - 0s 2ms/step - loss: 0.6437 - acc: 0.7750 - val_loss: 1.0700 - val_acc: 0.7222\n",
      "Epoch 66/100\n",
      "20/20 [==============================] - 0s 2ms/step - loss: 0.5190 - acc: 0.7937 - val_loss: 0.5884 - val_acc: 0.7222\n",
      "Epoch 67/100\n",
      "20/20 [==============================] - 0s 2ms/step - loss: 0.5663 - acc: 0.7875 - val_loss: 1.2131 - val_acc: 0.7778\n",
      "Epoch 68/100\n",
      "20/20 [==============================] - 0s 2ms/step - loss: 0.7232 - acc: 0.7547 - val_loss: 0.5021 - val_acc: 0.7639\n",
      "Epoch 69/100\n",
      "20/20 [==============================] - 0s 2ms/step - loss: 0.4508 - acc: 0.7969 - val_loss: 0.5214 - val_acc: 0.7222\n",
      "Epoch 70/100\n",
      "20/20 [==============================] - 0s 2ms/step - loss: 0.4527 - acc: 0.8000 - val_loss: 0.6812 - val_acc: 0.7361\n",
      "Epoch 71/100\n",
      "20/20 [==============================] - 0s 3ms/step - loss: 0.5215 - acc: 0.7984 - val_loss: 0.8757 - val_acc: 0.6528\n",
      "Epoch 72/100\n",
      "20/20 [==============================] - 0s 2ms/step - loss: 0.7536 - acc: 0.7828 - val_loss: 0.7878 - val_acc: 0.7222\n",
      "Epoch 73/100\n",
      "20/20 [==============================] - 0s 2ms/step - loss: 0.6911 - acc: 0.7875 - val_loss: 1.7704 - val_acc: 0.7778\n",
      "Epoch 74/100\n",
      "20/20 [==============================] - 0s 2ms/step - loss: 0.9598 - acc: 0.7563 - val_loss: 1.0751 - val_acc: 0.7083\n",
      "Epoch 75/100\n",
      "20/20 [==============================] - 0s 2ms/step - loss: 0.6514 - acc: 0.7891 - val_loss: 0.8314 - val_acc: 0.7222\n",
      "Epoch 76/100\n",
      "20/20 [==============================] - 0s 2ms/step - loss: 0.5188 - acc: 0.7984 - val_loss: 0.5155 - val_acc: 0.7639\n",
      "Epoch 77/100\n",
      "20/20 [==============================] - 0s 2ms/step - loss: 0.4970 - acc: 0.8031 - val_loss: 0.9166 - val_acc: 0.7639\n",
      "Epoch 78/100\n",
      "20/20 [==============================] - 0s 2ms/step - loss: 0.4274 - acc: 0.8125 - val_loss: 0.5020 - val_acc: 0.7639\n",
      "Epoch 79/100\n",
      "20/20 [==============================] - 0s 2ms/step - loss: 0.4554 - acc: 0.8156 - val_loss: 0.5494 - val_acc: 0.7361\n",
      "Epoch 80/100\n",
      "20/20 [==============================] - 0s 2ms/step - loss: 0.4549 - acc: 0.7937 - val_loss: 0.5412 - val_acc: 0.7639\n",
      "Epoch 81/100\n",
      "20/20 [==============================] - 0s 2ms/step - loss: 0.4554 - acc: 0.7922 - val_loss: 0.5918 - val_acc: 0.7361\n",
      "Epoch 82/100\n",
      "20/20 [==============================] - 0s 2ms/step - loss: 0.4492 - acc: 0.8031 - val_loss: 0.6209 - val_acc: 0.7222\n",
      "Epoch 83/100\n",
      "20/20 [==============================] - 0s 2ms/step - loss: 0.5216 - acc: 0.7906 - val_loss: 0.5714 - val_acc: 0.7361\n",
      "Epoch 84/100\n",
      "20/20 [==============================] - 0s 2ms/step - loss: 0.4426 - acc: 0.8156 - val_loss: 0.8836 - val_acc: 0.7083\n",
      "Epoch 85/100\n",
      "20/20 [==============================] - 0s 2ms/step - loss: 0.4958 - acc: 0.7875 - val_loss: 0.7617 - val_acc: 0.7083\n",
      "Epoch 86/100\n",
      "20/20 [==============================] - 0s 2ms/step - loss: 0.4415 - acc: 0.8141 - val_loss: 0.6239 - val_acc: 0.6944\n",
      "Epoch 87/100\n",
      "20/20 [==============================] - 0s 3ms/step - loss: 0.5228 - acc: 0.7875 - val_loss: 1.1383 - val_acc: 0.7361\n",
      "Epoch 88/100\n",
      "20/20 [==============================] - 0s 2ms/step - loss: 0.5759 - acc: 0.8000 - val_loss: 0.9410 - val_acc: 0.7222\n",
      "Epoch 89/100\n",
      "20/20 [==============================] - 0s 3ms/step - loss: 0.9600 - acc: 0.7641 - val_loss: 0.8036 - val_acc: 0.7361\n",
      "Epoch 90/100\n",
      "20/20 [==============================] - 0s 2ms/step - loss: 0.4479 - acc: 0.8125 - val_loss: 0.5119 - val_acc: 0.7639\n",
      "Epoch 91/100\n",
      "20/20 [==============================] - 0s 2ms/step - loss: 0.4102 - acc: 0.8172 - val_loss: 0.5162 - val_acc: 0.7500\n",
      "Epoch 92/100\n",
      "20/20 [==============================] - 0s 2ms/step - loss: 0.4247 - acc: 0.8000 - val_loss: 0.7104 - val_acc: 0.7222\n",
      "Epoch 93/100\n",
      "20/20 [==============================] - 0s 2ms/step - loss: 0.5197 - acc: 0.7922 - val_loss: 1.3828 - val_acc: 0.7500\n",
      "Epoch 94/100\n",
      "20/20 [==============================] - 0s 2ms/step - loss: 0.6123 - acc: 0.7906 - val_loss: 0.5270 - val_acc: 0.7361\n",
      "Epoch 95/100\n",
      "20/20 [==============================] - 0s 2ms/step - loss: 0.4343 - acc: 0.8031 - val_loss: 0.9130 - val_acc: 0.6528\n",
      "Epoch 96/100\n",
      "20/20 [==============================] - 0s 2ms/step - loss: 0.5597 - acc: 0.8000 - val_loss: 0.8324 - val_acc: 0.6528\n",
      "Epoch 97/100\n",
      "20/20 [==============================] - 0s 2ms/step - loss: 1.0013 - acc: 0.7563 - val_loss: 3.5243 - val_acc: 0.7778\n",
      "Epoch 98/100\n",
      "20/20 [==============================] - 0s 2ms/step - loss: 1.6338 - acc: 0.7437 - val_loss: 3.7380 - val_acc: 0.7639\n",
      "Epoch 99/100\n",
      "20/20 [==============================] - 0s 2ms/step - loss: 1.2378 - acc: 0.7500 - val_loss: 0.7960 - val_acc: 0.7222\n",
      "Epoch 100/100\n",
      "20/20 [==============================] - 0s 2ms/step - loss: 0.5675 - acc: 0.7906 - val_loss: 1.1042 - val_acc: 0.7639\n"
     ]
    },
    {
     "data": {
      "text/plain": [
       "<keras.callbacks.History at 0x28c84038790>"
      ]
     },
     "execution_count": 9,
     "metadata": {},
     "output_type": "execute_result"
    }
   ],
   "source": [
    "epoch = 100\n",
    "model.fit(X_train, y_train, epochs=epoch, validation_split=0.1)"
   ]
  },
  {
   "cell_type": "code",
   "execution_count": 10,
   "metadata": {},
   "outputs": [
    {
     "name": "stdout",
     "output_type": "stream",
     "text": [
      "6/6 [==============================] - 0s 1ms/step - loss: 0.7732 - acc: 0.8156\n"
     ]
    },
    {
     "data": {
      "text/plain": [
       "[0.7731717228889465, 0.8156424760818481]"
      ]
     },
     "execution_count": 10,
     "metadata": {},
     "output_type": "execute_result"
    }
   ],
   "source": [
    "#evaluate model\n",
    "model.evaluate(X_test, y_test)"
   ]
  },
  {
   "attachments": {},
   "cell_type": "markdown",
   "metadata": {},
   "source": [
    "we can tinker with model but not much improvement since neural networks are very data hungry. Less than 1000 examples, our dataset is not big enough. No strict num on a good amount of data but at least 10k+ examples is good. <br>\n",
    "100k is much better and best models use traning sets in the millions. Neural networks most useful for image recognition or NLP, not usually with traditional data set like titanic.\n",
    "\n",
    "# Part 2 image recognition with convolutional neural networks\n",
    "We will use keras load_data() fcn to read in data and it can convienently split into train and test data."
   ]
  },
  {
   "cell_type": "code",
   "execution_count": 11,
   "metadata": {},
   "outputs": [
    {
     "name": "stdout",
     "output_type": "stream",
     "text": [
      "Downloading data from https://storage.googleapis.com/tensorflow/tf-keras-datasets/mnist.npz\n",
      "11490434/11490434 [==============================] - 0s 0us/step\n"
     ]
    }
   ],
   "source": [
    "# load the data\n",
    "(x_train, y_train), (x_test, y_test) = tf.keras.datasets.mnist.load_data(path=\"mnist.npz\")"
   ]
  },
  {
   "cell_type": "code",
   "execution_count": 12,
   "metadata": {},
   "outputs": [
    {
     "data": {
      "text/plain": [
       "array([5, 0, 4, ..., 5, 6, 8], dtype=uint8)"
      ]
     },
     "execution_count": 12,
     "metadata": {},
     "output_type": "execute_result"
    }
   ],
   "source": [
    "y_train"
   ]
  },
  {
   "cell_type": "code",
   "execution_count": 13,
   "metadata": {},
   "outputs": [
    {
     "data": {
      "text/plain": [
       "(60000, 28, 28)"
      ]
     },
     "execution_count": 13,
     "metadata": {},
     "output_type": "execute_result"
    }
   ],
   "source": [
    "x_train.shape"
   ]
  },
  {
   "cell_type": "code",
   "execution_count": 15,
   "metadata": {},
   "outputs": [
    {
     "data": {
      "text/plain": [
       "<matplotlib.image.AxesImage at 0x28c89c16340>"
      ]
     },
     "execution_count": 15,
     "metadata": {},
     "output_type": "execute_result"
    },
    {
     "data": {
      "image/png": "[encoded data removed]",
      "text/plain": [
       "<Figure size 800x800 with 1 Axes>"
      ]
     },
     "metadata": {},
     "output_type": "display_data"
    }
   ],
   "source": [
    "# view images to ensure it looks good and set size of plot\n",
    "plt.figure(figsize=(8,8))\n",
    "\n",
    "#one image\n",
    "img = x_train[590]\n",
    "\n",
    "#reshaoe to the 28x28 matrix\n",
    "img = img.reshape(28,28)\n",
    "\n",
    "#plot reshaped image\n",
    "plt.imshow(img, cmap='gray')"
   ]
  },
  {
   "cell_type": "code",
   "execution_count": 19,
   "metadata": {},
   "outputs": [
    {
     "data": {
      "text/plain": [
       "array([[[0., 0., 0., ..., 0., 0., 0.],\n",
       "        [0., 0., 0., ..., 0., 0., 0.],\n",
       "        [0., 0., 0., ..., 0., 0., 0.],\n",
       "        ...,\n",
       "        [0., 0., 0., ..., 0., 0., 0.],\n",
       "        [0., 0., 0., ..., 0., 0., 0.],\n",
       "        [0., 0., 0., ..., 0., 0., 0.]],\n",
       "\n",
       "       [[0., 0., 0., ..., 0., 0., 0.],\n",
       "        [0., 0., 0., ..., 0., 0., 0.],\n",
       "        [0., 0., 0., ..., 0., 0., 0.],\n",
       "        ...,\n",
       "        [0., 0., 0., ..., 0., 0., 0.],\n",
       "        [0., 0., 0., ..., 0., 0., 0.],\n",
       "        [0., 0., 0., ..., 0., 0., 0.]],\n",
       "\n",
       "       [[0., 0., 0., ..., 0., 0., 0.],\n",
       "        [0., 0., 0., ..., 0., 0., 0.],\n",
       "        [0., 0., 0., ..., 0., 0., 0.],\n",
       "        ...,\n",
       "        [0., 0., 0., ..., 0., 0., 0.],\n",
       "        [0., 0., 0., ..., 0., 0., 0.],\n",
       "        [0., 0., 0., ..., 0., 0., 0.]],\n",
       "\n",
       "       ...,\n",
       "\n",
       "       [[0., 0., 0., ..., 0., 0., 0.],\n",
       "        [0., 0., 0., ..., 0., 0., 0.],\n",
       "        [0., 0., 0., ..., 0., 0., 0.],\n",
       "        ...,\n",
       "        [0., 0., 0., ..., 0., 0., 0.],\n",
       "        [0., 0., 0., ..., 0., 0., 0.],\n",
       "        [0., 0., 0., ..., 0., 0., 0.]],\n",
       "\n",
       "       [[0., 0., 0., ..., 0., 0., 0.],\n",
       "        [0., 0., 0., ..., 0., 0., 0.],\n",
       "        [0., 0., 0., ..., 0., 0., 0.],\n",
       "        ...,\n",
       "        [0., 0., 0., ..., 0., 0., 0.],\n",
       "        [0., 0., 0., ..., 0., 0., 0.],\n",
       "        [0., 0., 0., ..., 0., 0., 0.]],\n",
       "\n",
       "       [[0., 0., 0., ..., 0., 0., 0.],\n",
       "        [0., 0., 0., ..., 0., 0., 0.],\n",
       "        [0., 0., 0., ..., 0., 0., 0.],\n",
       "        ...,\n",
       "        [0., 0., 0., ..., 0., 0., 0.],\n",
       "        [0., 0., 0., ..., 0., 0., 0.],\n",
       "        [0., 0., 0., ..., 0., 0., 0.]]])"
      ]
     },
     "execution_count": 19,
     "metadata": {},
     "output_type": "execute_result"
    }
   ],
   "source": [
    "x_train #checking"
   ]
  },
  {
   "cell_type": "code",
   "execution_count": 16,
   "metadata": {},
   "outputs": [],
   "source": [
    "x_train = x_train / 255\n",
    "x_test = x_test / 255"
   ]
  },
  {
   "cell_type": "code",
   "execution_count": 18,
   "metadata": {},
   "outputs": [
    {
     "data": {
      "text/plain": [
       "array([[[0., 0., 0., ..., 0., 0., 0.],\n",
       "        [0., 0., 0., ..., 0., 0., 0.],\n",
       "        [0., 0., 0., ..., 0., 0., 0.],\n",
       "        ...,\n",
       "        [0., 0., 0., ..., 0., 0., 0.],\n",
       "        [0., 0., 0., ..., 0., 0., 0.],\n",
       "        [0., 0., 0., ..., 0., 0., 0.]],\n",
       "\n",
       "       [[0., 0., 0., ..., 0., 0., 0.],\n",
       "        [0., 0., 0., ..., 0., 0., 0.],\n",
       "        [0., 0., 0., ..., 0., 0., 0.],\n",
       "        ...,\n",
       "        [0., 0., 0., ..., 0., 0., 0.],\n",
       "        [0., 0., 0., ..., 0., 0., 0.],\n",
       "        [0., 0., 0., ..., 0., 0., 0.]],\n",
       "\n",
       "       [[0., 0., 0., ..., 0., 0., 0.],\n",
       "        [0., 0., 0., ..., 0., 0., 0.],\n",
       "        [0., 0., 0., ..., 0., 0., 0.],\n",
       "        ...,\n",
       "        [0., 0., 0., ..., 0., 0., 0.],\n",
       "        [0., 0., 0., ..., 0., 0., 0.],\n",
       "        [0., 0., 0., ..., 0., 0., 0.]],\n",
       "\n",
       "       ...,\n",
       "\n",
       "       [[0., 0., 0., ..., 0., 0., 0.],\n",
       "        [0., 0., 0., ..., 0., 0., 0.],\n",
       "        [0., 0., 0., ..., 0., 0., 0.],\n",
       "        ...,\n",
       "        [0., 0., 0., ..., 0., 0., 0.],\n",
       "        [0., 0., 0., ..., 0., 0., 0.],\n",
       "        [0., 0., 0., ..., 0., 0., 0.]],\n",
       "\n",
       "       [[0., 0., 0., ..., 0., 0., 0.],\n",
       "        [0., 0., 0., ..., 0., 0., 0.],\n",
       "        [0., 0., 0., ..., 0., 0., 0.],\n",
       "        ...,\n",
       "        [0., 0., 0., ..., 0., 0., 0.],\n",
       "        [0., 0., 0., ..., 0., 0., 0.],\n",
       "        [0., 0., 0., ..., 0., 0., 0.]],\n",
       "\n",
       "       [[0., 0., 0., ..., 0., 0., 0.],\n",
       "        [0., 0., 0., ..., 0., 0., 0.],\n",
       "        [0., 0., 0., ..., 0., 0., 0.],\n",
       "        ...,\n",
       "        [0., 0., 0., ..., 0., 0., 0.],\n",
       "        [0., 0., 0., ..., 0., 0., 0.],\n",
       "        [0., 0., 0., ..., 0., 0., 0.]]])"
      ]
     },
     "execution_count": 18,
     "metadata": {},
     "output_type": "execute_result"
    }
   ],
   "source": [
    "x_train #test"
   ]
  },
  {
   "cell_type": "code",
   "execution_count": null,
   "metadata": {},
   "outputs": [],
   "source": [
    "x_train = x_train.reshape(-1, 28, 28, 1)\n",
    "y_train = y_train.reshape(-1)"
   ]
  },
  {
   "cell_type": "code",
   "execution_count": null,
   "metadata": {},
   "outputs": [],
   "source": [
    "x_test = x_test.reshape(-1, 28, 28, 1)\n",
    "y_test = y_test.reshape(-1)"
   ]
  },
  {
   "attachments": {},
   "cell_type": "markdown",
   "metadata": {},
   "source": [
    "Convolutional layers apply filters to image to transform input. Exact filters are learned throughout training.<br>\n",
    "Build model same way, add layers. to make a CNN, add the convolutional layers at beginning and some MaxPooling layers which combine output of previous convolutional layers.<br>\n",
    "First layer needs an input_shape with input of our image, kernel_size is almost always (3,3)."
   ]
  },
  {
   "cell_type": "code",
   "execution_count": null,
   "metadata": {},
   "outputs": [],
   "source": [
    "model = tf.keras.models.Sequential()\n",
    "#start with some conv2D layers alternating with some maxPool layers\n",
    "#filter size inc. add chunks of conv2D and MaxPool up to 4 groups\n",
    "model.add(tf.keras.layers.Conv2D(input_shape=(28,28, 1),filters=28,kernel_size=(3,3), strides=(1,1), activation=\"relu\"))\n",
    "model.add(tf.keras.layers.Conv2D(filters=28, kernel_size=(3,3), strides=(1,1), activation=\"relu\"))\n",
    "\n",
    "model.add(tf.keras.layers.MaxPool2D(2,2))\n",
    "model.add(tf.keras.layers.Conv2D(filters=28, kernel_size=(3,3), strides=(1,1), activation=\"relu\"))\n",
    "model.add(tf.keras.layers.Conv2D(filters=28, kernel_size=(3,3), strides=(1,1), activation=\"relu\"))\n",
    "model.add(tf.keras.layers.MaxPool2D(2,2))\n",
    "\n",
    "#need to flatten layer before going into dense layers\n",
    "model.add(tf.keras.layers.Flatten())\n",
    "model.add(tf.keras.layers.Dense(256, activation='relu'))\n",
    "model.add(tf.keras.layers.Dense(256, activation='relu'))\n",
    "model.add(tf.keras.layers.Dense(128, activation='relu'))\n",
    "model.add(tf.keras.layers.Dense(10, activation='softmax'))"
   ]
  },
  {
   "cell_type": "code",
   "execution_count": null,
   "metadata": {},
   "outputs": [],
   "source": [
    "model.compile(optimizer=tf.keras.optimizers.Adam(), loss='sparse_categorical_crossentropy', metrics=['acc'])"
   ]
  },
  {
   "cell_type": "code",
   "execution_count": null,
   "metadata": {},
   "outputs": [],
   "source": [
    "epochs = 6\n",
    "model.fit(x_train, y_train, epochs=epochs, validation_split=0.1)"
   ]
  },
  {
   "cell_type": "code",
   "execution_count": null,
   "metadata": {},
   "outputs": [],
   "source": [
    "model.evaluate(x_test, y_test)"
   ]
  },
  {
   "attachments": {},
   "cell_type": "markdown",
   "metadata": {},
   "source": [
    "# part 3 transfer learning\n",
    "If asked to train an image classifier tomorrow, we would use transfer learning. Idea is to make use of models that other orgs have trained for a long time on a bunch of data. Can download their weights and add layers on end for our purpose.<br>\n",
    "Can follow this: https://towardsdatascience.com/a-comprehensive-hands-on-guide-to-transfer-learning-with-real-world-applications-in-deep-learning-212bf3b2f27a <br>\n",
    "First, use new data set, we can use cifar10 data set, classic benchmark: https://www.cs.toronto.edu/~kriz/cifar.html"
   ]
  },
  {
   "cell_type": "code",
   "execution_count": null,
   "metadata": {},
   "outputs": [],
   "source": [
    "(x_train, y_train), (x_test, y_test) = tf.keras.datasets.cifar10.load_data()"
   ]
  },
  {
   "cell_type": "code",
   "execution_count": null,
   "metadata": {},
   "outputs": [],
   "source": [
    "x_train = x_train / 255\n",
    "x_test = x_test / 255"
   ]
  },
  {
   "cell_type": "code",
   "execution_count": null,
   "metadata": {},
   "outputs": [],
   "source": [
    "x_train = x_train.reshape(-1, 32, 32, 3)\n",
    "y_train = y_train.reshape(-1)\n",
    "x_test = x_test.reshape(-1, 32, 32, 3)\n",
    "y_test = y_test.reshape(-1)"
   ]
  },
  {
   "cell_type": "code",
   "execution_count": null,
   "metadata": {},
   "outputs": [],
   "source": [
    "# view images\n",
    "plt.figure(figsize=(8,8))\n",
    "\n",
    "#select one image\n",
    "img = x_train[326]\n",
    "\n",
    "#reshape img to 28x28 matrix\n",
    "img = img.reshape(32,32,3)\n",
    "\n",
    "#plot reshaped image\n",
    "plt.imshow(img, cmpa='gray')"
   ]
  },
  {
   "cell_type": "code",
   "execution_count": null,
   "metadata": {},
   "outputs": [],
   "source": [
    "#making some tweaks to input shape but overal using same model to benchmark\n",
    "model = tf.keras.models.Sequential()\n",
    "model.add(tf.keras.layers.Conv2D(input_shape=(28,28, 1),filters=28,kernel_size=(3,3), strides=(1,1), activation=\"relu\"))\n",
    "model.add(tf.keras.layers.Conv2D(filters=28, kernel_size=(3,3), strides=(1,1), activation=\"relu\"))\n",
    "\n",
    "model.add(tf.keras.layers.MaxPool2D(2,2))\n",
    "model.add(tf.keras.layers.Conv2D(filters=28, kernel_size=(3,3), strides=(1,1), activation=\"relu\"))\n",
    "model.add(tf.keras.layers.Conv2D(filters=28, kernel_size=(3,3), strides=(1,1), activation=\"relu\"))\n",
    "model.add(tf.keras.layers.MaxPool2D(2,2))\n",
    "\n",
    "#need to flatten layer before going into dense layers\n",
    "model.add(tf.keras.layers.Flatten())\n",
    "model.add(tf.keras.layers.Dense(256, activation='relu'))\n",
    "model.add(tf.keras.layers.Dense(256, activation='relu'))\n",
    "model.add(tf.keras.layers.Dense(128, activation='relu'))\n",
    "model.add(tf.keras.layers.Dense(10, activation='softmax'))\n",
    "\n",
    "model.compile(optimizer=tf.keras.optimizers.Adam(), loss='spares_categorical_crossentropy', metrics=['acc'])\n",
    "#can we do other metrics besides accuracy?\n",
    "epochs = 15\n",
    "model.fit(x_train, y_train, epochs=epochs, validation_split=0.1)"
   ]
  },
  {
   "cell_type": "code",
   "execution_count": null,
   "metadata": {},
   "outputs": [],
   "source": [
    "#evaluating our from-scratch CNN model\n",
    "print('scratch CNN accuracy', model.evaluate(x_test, y_test)[1])\n",
    "#75% accuracy pretty good for classificatio problem with 10 classes. "
   ]
  },
  {
   "cell_type": "code",
   "execution_count": null,
   "metadata": {},
   "outputs": [],
   "source": [
    "#Now for transfer model lets create validation set to use\n",
    "x_train, x_val, y_train, y_val = train_test_split(x_train, y_train, test_size = 0.1)"
   ]
  },
  {
   "cell_type": "code",
   "execution_count": null,
   "metadata": {},
   "outputs": [],
   "source": [
    "input_shape = (32, 32, 3)\n",
    "\n",
    "#load the model\n",
    "vgg = vgg19.VG19.VGG19(include_top=False, weights='imagenet', input_shape=input_shape)\n",
    "\n",
    "output = vgg.layers[-1].output\n",
    "output = keras.layers.Flatten()(output)\n",
    "\n",
    "vgg_model = Model(vgg.input, output)\n",
    "\n",
    "#freeze bottom layers and print them out\n",
    "vgg_model.trainable = False\n",
    "for layer in vgg_model.layers:\n",
    "    layer.trainable = False\n",
    "\n",
    "pd.set_option('max_colwidth', None)\n",
    "layers = [(layer, layer.name, layer.trainable) for layer in vgg_model.layers]\n",
    "pd.DataFrame(layers, columns=['Layer Type', 'Layer Name', 'Layer Trainable'])"
   ]
  },
  {
   "cell_type": "code",
   "execution_count": null,
   "metadata": {},
   "outputs": [],
   "source": [
    "#we can use the vgg model as a feature extractor, we can use it to make predictions and then store them and feed into our own models\n",
    "train_features_vgg = vgg_model.predict(x_train)\n",
    "validation_features_vgg = vgg_model.predict(x_val)\n",
    "test_features_vgg = vgg_model.predict(x_test)"
   ]
  },
  {
   "cell_type": "code",
   "execution_count": null,
   "metadata": {},
   "outputs": [],
   "source": [
    "input_shape = vgg_model.output_shape[1]\n",
    "\n",
    "model = tf.keras.models.Sequential()\n",
    "model.add(tf.keras.layers.InputLayer(input_shape=(input_shape,)))\n",
    "model.add(Dense(256, activation='relu', input_dim=input_shape))\n",
    "model.add(Dropout(0.3))\n",
    "model.add(Dense(256, activation='relu'))\n",
    "model.add(Dropout(0.3))\n",
    "model.add(Dense(128, activation='relu'))\n",
    "model.add(Dense(10, activation='softmax'))\n",
    "\n",
    "model.compile(loss='sparse_categorical_crossentropy',\n",
    "              optimizer=tf.keras.optimizers.Adam(),\n",
    "              metrics=['accuracy'])"
   ]
  },
  {
   "cell_type": "code",
   "execution_count": null,
   "metadata": {},
   "outputs": [],
   "source": [
    "epochs=20\n",
    "model.fit(train_features_vgg, y_train, validation_data=(validation_features_vgg, y_val), epochs=epochs)"
   ]
  }
 ],
 "metadata": {
  "kernelspec": {
   "display_name": "base",
   "language": "python",
   "name": "python3"
  },
  "language_info": {
   "codemirror_mode": {
    "name": "ipython",
    "version": 3
   },
   "file_extension": ".py",
   "mimetype": "text/x-python",
   "name": "python",
   "nbconvert_exporter": "python",
   "pygments_lexer": "ipython3",
   "version": "3.9.13"
  },
  "orig_nbformat": 4,
  "vscode": {
   "interpreter": {
    "hash": "d7288e82646d3164eca24130947288f8779d11454649f2c02a5dfc42af7f324c"
   }
  }
 },
 "nbformat": 4,
 "nbformat_minor": 2
}
