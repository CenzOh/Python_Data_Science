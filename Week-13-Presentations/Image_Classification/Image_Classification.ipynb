{
 "cells": [
  {
   "attachments": {},
   "cell_type": "markdown",
   "metadata": {},
   "source": [
    "Image Classification Project <br>\n",
    "Data on natural scenes, using NN to predict what type of scene the picture is <br>\n",
    "https://www.kaggle.com/datasets/puneet6060/intel-image-classification?resource=download\n",
    "\n",
    "There are 6 categories / types of scenes.<br>\n",
    "25k images in total. 14k in training, 3k in testing, 7k in predicting sets.<br>\n",
    "Each image is 150 pixels x 150 pixels.\n",
    "\n",
    "Buildings - 0<br>\n",
    "Forest - 1<br>\n",
    "Glacier - 2<br>\n",
    "Mountain - 3<br>\n",
    "Sea - 4<br>\n",
    "Street - 5\n",
    "\n",
    "Steps ISBE<br>\n",
    "I - Inspect data<br>\n",
    "S - Select features<br>\n",
    "B - Build and train the model<br>\n",
    "E - Evaluate the model"
   ]
  },
  {
   "cell_type": "code",
   "execution_count": 8,
   "metadata": {},
   "outputs": [],
   "source": [
    "# boilerplate imports\n",
    "import pandas as pd\n",
    "import numpy as np\n",
    "\n",
    "#the import classifers \n",
    "from sklearn.svm import SVC\n",
    "from sklearn.ensemble import RandomForestClassifier\n",
    "from sklearn.linear_model import LogisticRegression\n",
    "\n",
    "# metrics contain the plot_confustion_matrix and classification_report\n",
    "from sklearn import metrics\n",
    "\n",
    "# helper fuction to splitting data\n",
    "from sklearn.model_selection import train_test_split\n",
    "\n",
    "# plotting\n",
    "import matplotlib.pyplot as plt\n",
    "\n",
    "import pathlib\n",
    "%matplotlib inline \n",
    "\n",
    "import os\n",
    "import tensorflow as tf\n",
    "import seaborn as sns\n",
    "from tqdm import tqdm\n",
    "import cv2 #had to install with pip\n",
    "from sklearn.utils import shuffle"
   ]
  },
  {
   "cell_type": "code",
   "execution_count": 12,
   "metadata": {},
   "outputs": [],
   "source": [
    "# Inspect data\n",
    "train_path = 'C:/Users/Cenzo Oh/datascience/data-science/Week-13-Presentations/Image_Classification/seg_train/' #grab the path of training images\n",
    "data_dir = pathlib.Path(train_path)\n",
    "data_dir\n",
    "\n",
    "test_path = 'C:/Users/Cenzo Oh/datascience/data-science/Week-13-Presentations/Image_Classification/seg_test/'\n"
   ]
  },
  {
   "cell_type": "code",
   "execution_count": 6,
   "metadata": {},
   "outputs": [],
   "source": [
    "os.environ['TF_FORCE_GPU_ALLOW_GROWTH'] = 'true'"
   ]
  },
  {
   "cell_type": "code",
   "execution_count": 24,
   "metadata": {},
   "outputs": [
    {
     "name": "stdout",
     "output_type": "stream",
     "text": [
      "Found 14034 files belonging to 6 classes.\n",
      "Using 11228 files for training.\n",
      "\n",
      "Found 14034 files belonging to 6 classes.\n",
      "Using 2806 files for validation.\n",
      "\n",
      "Found 3000 files belonging to 6 classes.\n",
      "\n"
     ]
    }
   ],
   "source": [
    "# training data\n",
    "train_ds = tf.keras.utils.image_dataset_from_directory(\n",
    "    train_path,\n",
    "    validation_split = 0.2, #20%\n",
    "    subset = \"training\",\n",
    "    seed = 321,\n",
    "    image_size=(132, 132),\n",
    "    batch_size = 32\n",
    ")\n",
    "print()\n",
    "# Found 14034 files belonging to 6 classes.\n",
    "# Using 11228 files for training.\n",
    "\n",
    "# validaton data\n",
    "val_ds = tf.keras.utils.image_dataset_from_directory(\n",
    "    train_path,\n",
    "    validation_split = 0.2, \n",
    "    subset = \"validation\",\n",
    "    seed = 321,\n",
    "    image_size=(132, 132),\n",
    "    batch_size = 32\n",
    ")\n",
    "print()\n",
    "# Found 14034 files belonging to 6 classes.\n",
    "# Using 2806 files for validation.\n",
    "\n",
    "# test data\n",
    "test_ds = tf.keras.utils.image_dataset_from_directory(\n",
    "    test_path,\n",
    "    seed = 321,\n",
    "    image_size=(132, 132),\n",
    "    batch_size = 32\n",
    ")\n",
    "print()\n",
    "# Found 3000 files belonging to 6 classes."
   ]
  },
  {
   "cell_type": "code",
   "execution_count": 25,
   "metadata": {},
   "outputs": [],
   "source": [
    "#optimize pipeline performance\n",
    "AUTOTUNE = tf.data.AUTOTUNE\n",
    "\n",
    "train_ds = train_ds.cache().shuffle(1000).prefetch(buffer_size=AUTOTUNE)\n",
    "val_ds = val_ds.cache().prefetch(buffer_size=AUTOTUNE)\n",
    "test_ds = test_ds.cache().prefetch(buffer_size=AUTOTUNE)"
   ]
  },
  {
   "cell_type": "code",
   "execution_count": 28,
   "metadata": {},
   "outputs": [
    {
     "data": {
      "text/html": [
       "<div>\n",
       "<style scoped>\n",
       "    .dataframe tbody tr th:only-of-type {\n",
       "        vertical-align: middle;\n",
       "    }\n",
       "\n",
       "    .dataframe tbody tr th {\n",
       "        vertical-align: top;\n",
       "    }\n",
       "\n",
       "    .dataframe thead th {\n",
       "        text-align: right;\n",
       "    }\n",
       "</style>\n",
       "<table border=\"1\" class=\"dataframe\">\n",
       "  <thead>\n",
       "    <tr style=\"text-align: right;\">\n",
       "      <th></th>\n",
       "      <th>buildings</th>\n",
       "      <th>forest</th>\n",
       "      <th>glacier</th>\n",
       "      <th>mountain</th>\n",
       "      <th>sea</th>\n",
       "      <th>street</th>\n",
       "    </tr>\n",
       "  </thead>\n",
       "  <tbody>\n",
       "    <tr>\n",
       "      <th>0</th>\n",
       "      <td>2191</td>\n",
       "      <td>2271</td>\n",
       "      <td>2404</td>\n",
       "      <td>2512</td>\n",
       "      <td>2274</td>\n",
       "      <td>2382</td>\n",
       "    </tr>\n",
       "  </tbody>\n",
       "</table>\n",
       "</div>"
      ],
      "text/plain": [
       "   buildings  forest  glacier  mountain   sea  street\n",
       "0       2191    2271     2404      2512  2274    2382"
      ]
     },
     "execution_count": 28,
     "metadata": {},
     "output_type": "execute_result"
    }
   ],
   "source": [
    "# label count\n",
    "labels = os.listdir(data_dir) #importing labels from training set\n",
    "count = {}\n",
    "for i in labels:\n",
    "    count[i] = len(list(data_dir.glob(f'{i}/*.jpg')))\n",
    "# for every label / category, count total amount of images\n",
    "\n",
    "pd.DataFrame(count, index = [0])\n",
    "\n",
    "# buildings\tforest\tglacier\tmountain\tsea\t    street\n",
    "# 2191\t    2271\t2404\t2512\t    2274\t2382\n",
    "# pretty even spread of data"
   ]
  },
  {
   "cell_type": "code",
   "execution_count": 32,
   "metadata": {},
   "outputs": [
    {
     "data": {
      "image/png": "[encoded data removed]",
      "text/plain": [
       "<Figure size 1000x500 with 1 Axes>"
      ]
     },
     "metadata": {},
     "output_type": "display_data"
    }
   ],
   "source": [
    "# test plot\n",
    "y = [values for values in count.values()]\n",
    "plt.figure(figsize = (10,5))\n",
    "sns.barplot(x = labels, y = y, palette = 'mako')\n",
    "plt.title('The number of Images for each class', fontsize = 17)\n",
    "plt.xlabel('Class Name')\n",
    "plt.ylabel('Frequency')\n",
    "plt.show()"
   ]
  },
  {
   "cell_type": "code",
   "execution_count": null,
   "metadata": {},
   "outputs": [],
   "source": []
  },
  {
   "cell_type": "code",
   "execution_count": 3,
   "metadata": {},
   "outputs": [
    {
     "data": {
      "text/plain": [
       "6"
      ]
     },
     "execution_count": 3,
     "metadata": {},
     "output_type": "execute_result"
    }
   ],
   "source": [
    "# TRYING ANOTHER VERSION\n",
    "class_names = ['mountain', 'street', 'glacier', 'buildings', 'sea', 'forest'] #array of what to predict\n",
    "class_names_label = {class_name:i for i, class_name in enumerate(class_names)} #key and value for prediction values\n",
    "\n",
    "# {'mountain':  0,\n",
    "#  'street':    1,\n",
    "#  'glacier':   2,\n",
    "#  'buildings': 3,\n",
    "#  'sea':       4,\n",
    "#  'forest':    5}\n",
    "\n",
    "# 6\n",
    "nb_classes = len(class_names)\n",
    "\n",
    "nb_classes\n",
    "class_names_label"
   ]
  },
  {
   "cell_type": "code",
   "execution_count": 20,
   "metadata": {},
   "outputs": [],
   "source": [
    "def load_data():    \n",
    "\n",
    "    datasets = [\n",
    "        train_path,\n",
    "        test_path\n",
    "        ]\n",
    "\n",
    "    output = []\n",
    "\n",
    "    for i in datasets:\n",
    "        images = []\n",
    "        labels = []\n",
    "\n",
    "        print(\"Loading {}\".format(i))\n",
    "\n",
    "        for folder in os.listdir(i):\n",
    "            label = class_names_label[folder]\n",
    "\n",
    "            for file in tqdm(os.listdir(os.path.join(i, folder))):\n",
    "                img_path = os.path.join(os.path.join(i, folder), file)\n",
    "\n",
    "                image = cv2.imread(img_path)\n",
    "                image = cv2.cvtColor(image, cv2.COLOR_BGR2RGB)\n",
    "                image = cv2.resize(image, (150, 150)) #image size 150 by 150\n",
    "\n",
    "                images.append(image)\n",
    "                labels.append(label)\n",
    "\n",
    "        images = np.array(images, dtype = 'float32')\n",
    "        labels = np.array(labels, dtype = 'int32')\n",
    "\n",
    "        output.append((images, labels))\n",
    "\n",
    "    return output"
   ]
  },
  {
   "cell_type": "code",
   "execution_count": 21,
   "metadata": {},
   "outputs": [
    {
     "name": "stdout",
     "output_type": "stream",
     "text": [
      "Loading C:/Users/Cenzo Oh/datascience/data-science/Week-13-Presentations/Image_Classification/seg_train/\n"
     ]
    },
    {
     "name": "stderr",
     "output_type": "stream",
     "text": [
      "100%|██████████| 2191/2191 [00:00<00:00, 2273.16it/s]\n",
      "100%|██████████| 2271/2271 [00:01<00:00, 2065.96it/s]\n",
      "100%|██████████| 2404/2404 [00:01<00:00, 2344.84it/s]\n",
      "100%|██████████| 2512/2512 [00:01<00:00, 2358.15it/s]\n",
      "100%|██████████| 2274/2274 [00:00<00:00, 2403.26it/s]\n",
      "100%|██████████| 2382/2382 [00:01<00:00, 2223.59it/s]\n"
     ]
    },
    {
     "name": "stdout",
     "output_type": "stream",
     "text": [
      "Loading C:/Users/Cenzo Oh/datascience/data-science/Week-13-Presentations/Image_Classification/seg_test/\n"
     ]
    },
    {
     "name": "stderr",
     "output_type": "stream",
     "text": [
      "100%|██████████| 437/437 [00:00<00:00, 2252.07it/s]\n",
      "100%|██████████| 474/474 [00:00<00:00, 2060.41it/s]\n",
      "100%|██████████| 553/553 [00:00<00:00, 2284.61it/s]\n",
      "100%|██████████| 525/525 [00:00<00:00, 2133.66it/s]\n",
      "100%|██████████| 510/510 [00:00<00:00, 2405.12it/s]\n",
      "100%|██████████| 501/501 [00:00<00:00, 2246.12it/s]\n"
     ]
    }
   ],
   "source": [
    "(train_images, train_labels), (test_images, test_labels) = load_data()"
   ]
  },
  {
   "cell_type": "code",
   "execution_count": 22,
   "metadata": {},
   "outputs": [
    {
     "ename": "NameError",
     "evalue": "name 'shuffle' is not defined",
     "output_type": "error",
     "traceback": [
      "\u001b[1;31m---------------------------------------------------------------------------\u001b[0m",
      "\u001b[1;31mNameError\u001b[0m                                 Traceback (most recent call last)",
      "\u001b[1;32m~\\AppData\\Local\\Temp\\ipykernel_3256\\112960177.py\u001b[0m in \u001b[0;36m<module>\u001b[1;34m\u001b[0m\n\u001b[1;32m----> 1\u001b[1;33m \u001b[0mtrain_images\u001b[0m\u001b[1;33m,\u001b[0m \u001b[0mtrain_labels\u001b[0m \u001b[1;33m=\u001b[0m \u001b[0mshuffle\u001b[0m\u001b[1;33m(\u001b[0m\u001b[0mtrain_images\u001b[0m\u001b[1;33m,\u001b[0m \u001b[0mtrain_labels\u001b[0m\u001b[1;33m,\u001b[0m \u001b[0mrandom_state\u001b[0m\u001b[1;33m=\u001b[0m\u001b[1;36m25\u001b[0m\u001b[1;33m)\u001b[0m\u001b[1;33m\u001b[0m\u001b[1;33m\u001b[0m\u001b[0m\n\u001b[0m",
      "\u001b[1;31mNameError\u001b[0m: name 'shuffle' is not defined"
     ]
    }
   ],
   "source": [
    "train_images, train_labels = shuffle(train_images, train_labels, random_state=25)"
   ]
  }
 ],
 "metadata": {
  "kernelspec": {
   "display_name": "base",
   "language": "python",
   "name": "python3"
  },
  "language_info": {
   "codemirror_mode": {
    "name": "ipython",
    "version": 3
   },
   "file_extension": ".py",
   "mimetype": "text/x-python",
   "name": "python",
   "nbconvert_exporter": "python",
   "pygments_lexer": "ipython3",
   "version": "3.9.13"
  },
  "orig_nbformat": 4,
  "vscode": {
   "interpreter": {
    "hash": "d7288e82646d3164eca24130947288f8779d11454649f2c02a5dfc42af7f324c"
   }
  }
 },
 "nbformat": 4,
 "nbformat_minor": 2
}
